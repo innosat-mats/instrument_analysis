{
 "cells": [
  {
   "cell_type": "code",
   "execution_count": 1,
   "metadata": {},
   "outputs": [],
   "source": [
    "import numpy as np\n",
    "import simulation as sim\n",
    "from matplotlib import pyplot as plt"
   ]
  },
  {
   "cell_type": "code",
   "execution_count": 2,
   "metadata": {},
   "outputs": [],
   "source": [
    "rows = 512\n",
    "columns = 2048\n",
    "ccd = sim.CCD(rows, columns)\n",
    "signal = np.array([1,2,4,8])"
   ]
  },
  {
   "cell_type": "code",
   "execution_count": 12,
   "metadata": {},
   "outputs": [],
   "source": [
    "images = np.zeros([len(signal),1])\n",
    "for i in range(len(signal)):\n",
    "    ccd.set_image(np.ones([rows,columns])*signal[i])\n",
    "    images[i] = np.mean(ccd.get_image(nrow=512, nrskip=0, nrbin=1, ncol=2048, ncskip=0, ncbin=1,pixel_loss_column=0.95,pixel_loss_row=0.9999))"
   ]
  },
  {
   "cell_type": "code",
   "execution_count": 13,
   "metadata": {},
   "outputs": [],
   "source": [
    "images2 = np.zeros([len(signal),1])\n",
    "for i in range(len(signal)):\n",
    "    ccd.set_image(np.ones([rows,columns])*signal[i])\n",
    "    images2[i] = np.mean(ccd.get_image(nrow=256, nrskip=0, nrbin=2, ncol=1024, ncskip=0, ncbin=2,pixel_loss_column=0.95,pixel_loss_row=0.9999)/4)"
   ]
  },
  {
   "cell_type": "code",
   "execution_count": 14,
   "metadata": {},
   "outputs": [
    {
     "data": {
      "text/plain": [
       "[<matplotlib.lines.Line2D at 0x7f4ad9a40630>,\n",
       " <matplotlib.lines.Line2D at 0x7f4ad9a40748>]"
      ]
     },
     "execution_count": 14,
     "metadata": {},
     "output_type": "execute_result"
    },
    {
     "data": {
      "image/png": "[encoded data removed]",
      "text/plain": [
       "<Figure size 432x288 with 1 Axes>"
      ]
     },
     "metadata": {},
     "output_type": "display_data"
    }
   ],
   "source": [
    "plt.plot(signal,images,signal,images2)"
   ]
  },
  {
   "cell_type": "code",
   "execution_count": null,
   "metadata": {},
   "outputs": [],
   "source": []
  },
  {
   "cell_type": "code",
   "execution_count": null,
   "metadata": {},
   "outputs": [],
   "source": []
  }
 ],
 "metadata": {
  "kernelspec": {
   "display_name": "Python 3",
   "language": "python",
   "name": "python3"
  },
  "language_info": {
   "codemirror_mode": {
    "name": "ipython",
    "version": 3
   },
   "file_extension": ".py",
   "mimetype": "text/x-python",
   "name": "python",
   "nbconvert_exporter": "python",
   "pygments_lexer": "ipython3",
   "version": "3.6.9"
  }
 },
 "nbformat": 4,
 "nbformat_minor": 2
}
